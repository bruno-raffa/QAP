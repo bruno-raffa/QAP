{
 "cells": [
  {
   "cell_type": "code",
   "execution_count": 1,
   "metadata": {},
   "outputs": [],
   "source": [
    " #!pip install -r requirements.txt"
   ]
  },
  {
   "cell_type": "code",
   "execution_count": 2,
   "metadata": {},
   "outputs": [],
   "source": [
    "import os\n",
    "import pandas as pd\n",
    "import numpy as np\n",
    "from dwave.system import LeapHybridCQMSampler, LeapHybridSampler\n",
    "from dimod import ConstrainedQuadraticModel,  QuadraticModel, quicksum, Integer, BinaryQuadraticModel, Binary\n",
    "from dotenv import load_dotenv, find_dotenv\n",
    "import networkx as nx\n",
    "import re\n",
    "from pprint import pprint\n",
    "import random\n",
    "import matplotlib\n",
    "try:\n",
    "    import matplotlib.pyplot as plt\n",
    "except ImportError:\n",
    "    matplotlib.use(\"agg\")\n",
    "    import matplotlib.pyplot as plt"
   ]
  },
  {
   "cell_type": "code",
   "execution_count": 3,
   "metadata": {},
   "outputs": [],
   "source": [
    "# Load Environmental Variables\n",
    "load_dotenv(find_dotenv())\n",
    "token = os.environ['DWAVE_API_KEY'] "
   ]
  },
  {
   "cell_type": "code",
   "execution_count": 49,
   "metadata": {},
   "outputs": [],
   "source": [
    "# Define the number of facilities/locations\n",
    "n = 4\n",
    "\n",
    "# Define the flow matric\n",
    "f = np.array([[0, 3, 0, 2], [3, 0, 0, 1], [0, 0, 0, 4], [2, 1, 4, 0]])\n",
    "\n",
    "# Define the distance matrix\n",
    "d = np.array([[0, 22, 53, 53], [22, 0, 40, 62], [53, 40, 0, 55], [53, 62, 55, 0]])\n",
    "\n",
    "offset = 0.5"
   ]
  },
  {
   "cell_type": "code",
   "execution_count": 41,
   "metadata": {},
   "outputs": [],
   "source": [
    "def build_cqm():\n",
    "\n",
    "    # Define the decision variables: Using a dictionary comprehension where each variable is a binary variable corresponding to the assignment of a facility to a location.\n",
    "    x = {(i, j): Binary(f'F{i}_L{j}') for i in range(n) for j in range(n)}\n",
    "\n",
    "    # Instantiate the Constrained Quadratic Model\n",
    "    cqm = ConstrainedQuadraticModel()\n",
    "\n",
    "    # Define the objective function: The cost is computed as the product of the flow between the facilities and the distance between the locations, multiplied by the binary variables corresponding to the assignment of each facility to each location\n",
    "    objective =(offset) * quicksum(f[i][j] * d[p][q] * x[(i, p)] * x[(j, q)] for i in range(n) for j in range(n) for p in range(n) for q in range(n))\n",
    "\n",
    "    cqm.set_objective(objective)\n",
    "\n",
    "    # Define the constraints to ensure that each facility is assigned to exactly one location\n",
    "    for i in range(n):\n",
    "        cqm.add_constraint(\n",
    "        quicksum(x[(i, j)] for j in range(n)) == 1\n",
    "        )\n",
    "\n",
    "    # Define the constraints to ensure that each location is assigned to exactly one facility\n",
    "    for j in range(n):\n",
    "        cqm.add_constraint(\n",
    "        quicksum(x[(i, j)] for i in range(n)) == 1\n",
    "        )\n",
    "    return cqm"
   ]
  },
  {
   "cell_type": "code",
   "execution_count": 25,
   "metadata": {},
   "outputs": [],
   "source": [
    "def parse_solution(cqm):\n",
    "\n",
    "    # Solve the problem\n",
    "    sampler = LeapHybridCQMSampler(token=token)\n",
    "    print(\"Submitting CQM to solver {}.\".format(sampler.solver.name))\n",
    "\n",
    "    # Sample from the model\n",
    "    sampleset = sampler.sample_cqm(cqm, label='QAP')\n",
    "    feasible_sampleset = sampleset.filter(lambda row: row.is_feasible)\n",
    "    if not len(feasible_sampleset):\n",
    "        raise ValueError(\"No feasible solution found\")\n",
    "    \n",
    "    # Get the lowest feasible energy solution and store the solution variable\n",
    "    best = feasible_sampleset.first\n",
    "    result = [(key, val) for key, val in best.sample.items() if val==1.0]\n",
    "\n",
    "    locations_ordered = sorted(result, key=lambda x: int(x[0].split(\"_\")[1][1:]))\n",
    "    result = [int(t[0].split('_')[0][1:]) for t in locations_ordered]\n",
    "\n",
    "    return result, best.energy\n"
   ]
  },
  {
   "cell_type": "code",
   "execution_count": 50,
   "metadata": {},
   "outputs": [],
   "source": [
    "cqm = build_cqm()"
   ]
  },
  {
   "cell_type": "code",
   "execution_count": 51,
   "metadata": {},
   "outputs": [
    {
     "name": "stdout",
     "output_type": "stream",
     "text": [
      "Submitting CQM to solver hybrid_constrained_quadratic_model_version1.\n"
     ]
    }
   ],
   "source": [
    "facility_sequence, total_cost  = parse_solution(cqm)"
   ]
  },
  {
   "cell_type": "code",
   "execution_count": 48,
   "metadata": {},
   "outputs": [
    {
     "name": "stdout",
     "output_type": "stream",
     "text": [
      "Facility_sequence according to the order of location[0-indexed]: [2, 0, 8, 7, 6, 3, 4, 5, 1]\n"
     ]
    }
   ],
   "source": [
    "print(f'Facility_sequence according to the order of location[0-indexed]: {facility_sequence}')"
   ]
  },
  {
   "cell_type": "code",
   "execution_count": 52,
   "metadata": {},
   "outputs": [
    {
     "name": "stdout",
     "output_type": "stream",
     "text": [
      "Total Cost: 395.0\n"
     ]
    }
   ],
   "source": [
    "print(f'Total Cost: {total_cost}')"
   ]
  },
  {
   "attachments": {},
   "cell_type": "markdown",
   "metadata": {},
   "source": [
    "** Let's compare the case for n=9"
   ]
  },
  {
   "cell_type": "code",
   "execution_count": 42,
   "metadata": {},
   "outputs": [],
   "source": [
    "# Define the number of facilities/locations\n",
    "n = 9\n",
    "\n",
    "# Define the flow matrix\n",
    "f = np.array([[0, 2, 4, 0, 0, 0, 2, 0, 0], [2, 0, 3, 1, 0, 6, 0, 0, 2], [4, 3, 0, 0, 0, 3, 0, 0, 0],\n",
    "              [0, 1, 0, 0, 1, 0, 1, 2, 0], [0, 0, 0, 1, 0, 0, 0, 0, 0], [0, 6, 3, 0, 0, 0, 0, 0, 2],\n",
    "              [2, 0, 0, 1, 0, 0, 0, 4, 3], [0, 0, 0, 2, 0, 0, 4, 0, 0], [0, 2, 0, 0, 0, 2, 3, 0, 0]])\n",
    "\n",
    "# Define the distance matrix\n",
    "d = np.array([[0, 32, 68, 97, 75, 70, 75, 40, 24], [32, 0, 42, 80, 53, 65, 82, 47, 29], [68, 42, 0, 45, 15, 49, 79, 55, 50],\n",
    "              [97, 80, 45, 0, 30, 36, 65, 65, 73], [75, 53, 15, 30, 0, 38, 69, 53, 53], [70, 65, 49, 36, 38, 0, 31, 32, 46],\n",
    "              [75, 82, 79, 65, 69, 31, 0, 36, 56], [40, 47, 55, 65, 53, 32, 36, 0, 19], [24, 29, 50, 73, 53, 46, 56, 19, 0]])\n"
   ]
  },
  {
   "cell_type": "code",
   "execution_count": 43,
   "metadata": {},
   "outputs": [
    {
     "name": "stdout",
     "output_type": "stream",
     "text": [
      "Submitting CQM to solver hybrid_constrained_quadratic_model_version1.\n"
     ]
    }
   ],
   "source": [
    "cqm = build_cqm()\n",
    "facility_sequence, total_cost  = parse_solution(cqm)"
   ]
  },
  {
   "cell_type": "code",
   "execution_count": 46,
   "metadata": {},
   "outputs": [
    {
     "name": "stdout",
     "output_type": "stream",
     "text": [
      "Facility_sequence according to the order of location[0-indexed]: [2, 0, 8, 7, 6, 3, 4, 5, 1]\n"
     ]
    }
   ],
   "source": [
    "print(f'Facility_sequence according to the order of location[0-indexed]: {facility_sequence}')"
   ]
  },
  {
   "cell_type": "code",
   "execution_count": 45,
   "metadata": {},
   "outputs": [
    {
     "name": "stdout",
     "output_type": "stream",
     "text": [
      "Total Cost: 1160.0\n"
     ]
    }
   ],
   "source": [
    "print(f'Total Cost: {total_cost}')"
   ]
  }
 ],
 "metadata": {
  "kernelspec": {
   "display_name": ".venv",
   "language": "python",
   "name": "python3"
  },
  "language_info": {
   "codemirror_mode": {
    "name": "ipython",
    "version": 3
   },
   "file_extension": ".py",
   "mimetype": "text/x-python",
   "name": "python",
   "nbconvert_exporter": "python",
   "pygments_lexer": "ipython3",
   "version": "3.10.11"
  },
  "orig_nbformat": 4
 },
 "nbformat": 4,
 "nbformat_minor": 2
}
